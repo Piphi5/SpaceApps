{
 "cells": [
  {
   "cell_type": "code",
   "execution_count": 22,
   "metadata": {},
   "outputs": [
    {
     "name": "stdout",
     "output_type": "stream",
     "text": [
      "https://apod.nasa.gov/apod/ap081227.html\n",
      "https://apod.nasa.gov/apod/ap020714.html\n",
      "https://apod.nasa.gov/apod/archivepix.html\n",
      "https://apod.nasa.gov/apod/ap980208.html\n",
      "https://apod.nasa.gov/apod/ap020920.html\n",
      "https://www.nasa.gov/mission_pages/GLAST/news/crab-nebula-surprise.html\n",
      "https://www.nasa.gov/image-feature/formation-of-the-southern-crab-nebula/\n",
      "https://apod.nasa.gov/apod/supernova_remnants.html\n",
      "https://www.nasa.gov/multimedia/imagegallery/image_feature_460.html\n",
      "https://www.nasa.gov/chandra/multimedia/chandra-15th-anniversary-crab-nebula.html\n",
      "https://www.nasa.gov/image-feature/goddard/2019/hubble-celebrates-29th-anniversary-with-a-colorful-look-at-the-southern-crab-nebula/\n",
      "https://www.nasa.gov/multimedia/imagegallery/image_feature_1604.html\n",
      "https://photojournal.jpl.nasa.gov/gallery/universe\n",
      "https://www.jpl.nasa.gov/spaceimages/details.php?id=PIA21474\n",
      "https://www.jpl.nasa.gov/spaceimages/details.php?id=PIA17563\n",
      "https://apod.nasa.gov/apod/ap180103.html\n",
      "https://apod.nasa.gov/apod/ap040408.html\n",
      "https://apod.nasa.gov/apod/ap951121.html\n",
      "https://apod.nasa.gov/apod/ap190404.html\n",
      "https://www.nasa.gov/multimedia/imagegallery/image_feature_567.html\n"
     ]
    }
   ],
   "source": [
    "from bs4 import BeautifulSoup\n",
    "import requests\n",
    "import urllib.request\n",
    "\n",
    "\n",
    "\n",
    "search_terms = [\"crater\"]\n",
    "nasa_solarsys_search = \"https://solarsystem.nasa.gov/search/?q=\" # would probably have to use selenium\n",
    "\n",
    "# working bs4 test\n",
    "keyword = \"crab nebula\"\n",
    "url = \"https://nasasearch.nasa.gov/search?utf8=%E2%9C%93&affiliate=nasa&sort_by=&query=\"\n",
    "source = urllib.request.urlopen((url + keyword).replace(\" \", \"+\")).read()\n",
    "soup = BeautifulSoup(source, \"html.parser\")\n",
    "\n",
    "articles = soup.find_all('h4', {\"class\" : \"title\"})\n",
    "for article in articles:\n",
    "    print(article.find('a')['href'])\n",
    "#print(soup.text)"
   ]
  },
  {
   "cell_type": "code",
   "execution_count": 28,
   "metadata": {},
   "outputs": [
    {
     "name": "stdout",
     "output_type": "stream",
     "text": [
      "['https://www.nasa.gov/sun/', 'https://www.youtube.com/watch?v=NeZxJEYeM2g', 'https://photojournal.jpl.nasa.gov/target/Sun', 'https://earthobservatory.nasa.gov/images/48442/lining-up-the-sun-moon-and-iss', 'https://earthobservatory.nasa.gov/images/76998/the-sun-flares-with-activity', 'https://earthobservatory.nasa.gov/images/37575/sunspots-at-solar-maximum-and-minimum', 'https://blogs.nasa.gov/sunspot/', 'https://www.nasa.gov/feature/goddard/2018/sounds-of-the-sun/', 'https://apod.nasa.gov/apod/ap980429.html', 'https://www.jpl.nasa.gov/infographics/infographic.view.php?id=12205', 'https://www.jpl.nasa.gov/edu/news/2015/8/17/bringing-earths-cousin-into-the-classroom/', 'https://www.jpl.nasa.gov/spaceimages/details.php?id=PIA03520', 'https://apod.nasa.gov/apod/sun.html', 'https://apod.nasa.gov/apod/ap120923.html', 'https://www.jpl.nasa.gov/spaceimages/details.php?id=PIA04216', 'https://apod.nasa.gov/apod/ap040419.html', 'https://earthobservatory.nasa.gov/images/43191/solar-flare-and-coronal-mass-ejection', 'https://www.jpl.nasa.gov/edu/news/2016/5/6/transit-of-mercury/', 'https://apod.nasa.gov/apod/ap010907.html', 'https://www.jpl.nasa.gov/news/news.php?feature=584', 'https://apod.nasa.gov/apod/ap971217.html', 'https://www.jpl.nasa.gov/news/news.php?feature=7377', 'http://www.nasa.gov/feature/goddard/2020/esa-nasa-solar-orbiter-launch-voyage-to-sun-heat-shield']\n"
     ]
    }
   ],
   "source": [
    "#converting it to a method\n",
    "def search_nasa(keywords):\n",
    "    links = []\n",
    "    url = \"https://nasasearch.nasa.gov/search?utf8=%E2%9C%93&affiliate=nasa&sort_by=&query=\"\n",
    "    source = urllib.request.urlopen((url + keywords).replace(\" \", \"+\")).read()\n",
    "    soup = BeautifulSoup(source, \"html.parser\")\n",
    "    articles = soup.find_all('h4', {\"class\" : \"title\"})\n",
    "    for article in articles:\n",
    "        links.append(article.find('a')['href'])\n",
    "    return links\n",
    "\n",
    "print(search_nasa(\"sun\"))"
   ]
  },
  {
   "cell_type": "code",
   "execution_count": 1,
   "metadata": {},
   "outputs": [
    {
     "ename": "ModuleNotFoundError",
     "evalue": "No module named 'ImagesAPIReader'",
     "output_type": "error",
     "traceback": [
      "\u001b[1;31m---------------------------------------------------------------------------\u001b[0m",
      "\u001b[1;31mModuleNotFoundError\u001b[0m                       Traceback (most recent call last)",
      "\u001b[1;32m<ipython-input-1-6b710b5f13ce>\u001b[0m in \u001b[0;36m<module>\u001b[1;34m\u001b[0m\n\u001b[1;32m----> 1\u001b[1;33m \u001b[1;32mimport\u001b[0m \u001b[0mImagesAPIReader\u001b[0m\u001b[1;33m\u001b[0m\u001b[1;33m\u001b[0m\u001b[0m\n\u001b[0m",
      "\u001b[1;31mModuleNotFoundError\u001b[0m: No module named 'ImagesAPIReader'"
     ]
    }
   ],
   "source": []
  }
 ],
 "metadata": {
  "kernelspec": {
   "display_name": "Python 3",
   "language": "python",
   "name": "python3"
  },
  "language_info": {
   "codemirror_mode": {
    "name": "ipython",
    "version": 3
   },
   "file_extension": ".py",
   "mimetype": "text/x-python",
   "name": "python",
   "nbconvert_exporter": "python",
   "pygments_lexer": "ipython3",
   "version": "3.7.6"
  }
 },
 "nbformat": 4,
 "nbformat_minor": 4
}
