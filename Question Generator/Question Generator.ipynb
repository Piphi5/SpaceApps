{
 "cells": [
  {
   "cell_type": "code",
   "execution_count": 15,
   "metadata": {},
   "outputs": [],
   "source": [
    "# proof of concept\n",
    "\n",
    "# categories : search terms dictionary\n",
    "question_words = {\n",
    "    \"type of mars landmark is\" : [\"mountain\", \"lake\", \"crater\", \"glacier\", \"volcano\"],\n",
    "    \"type of galaxy is\" : [\"spiral\", \"round\", \"something\", \"test\", \"somethingee\"],\n",
    "    \"planet is in\" : [\"Earth\", \"Mars\", \"Saturn\", \"venus\", \"mercury\"],\n",
    "    \"type of space landmark is\" : [],\n",
    "    \"is the name of the landmark in\": []\n",
    "    }\n",
    "\n",
    "\n"
   ]
  },
  {
   "cell_type": "code",
   "execution_count": 44,
   "metadata": {},
   "outputs": [
    {
     "name": "stdout",
     "output_type": "stream",
     "text": [
      "{'question': 'What type of mars landmark is the image above?', 'choices': ['lake', 'glacier', 'mountain', 'crater'], 'answer': 'mountain'}\n"
     ]
    }
   ],
   "source": [
    "# quick test of question text generation\n",
    "import random\n",
    "question_structure = \"What {category} the image above?\"\n",
    "num_choices = 4\n",
    "# question generation\n",
    "category, choices = random.choice(list(question_words.items()))\n",
    "answer = random.choice(choices)\n",
    "\n",
    "question = {\"question\": question_structure.format(category = category),\n",
    "            \"choices\" : random.sample(choices, num_choices),\n",
    "            \"answer\" : answer\n",
    "           }\n",
    "\n",
    "print(question)\n"
   ]
  },
  {
   "cell_type": "code",
   "execution_count": 49,
   "metadata": {},
   "outputs": [],
   "source": [
    "question = {}\n",
    "if question:\n",
    "    print(\"hi\")"
   ]
  },
  {
   "cell_type": "code",
   "execution_count": 61,
   "metadata": {},
   "outputs": [],
   "source": [
    "# Question generator class\n",
    "import json\n",
    "class QuestionGen:\n",
    "    question_words = {\n",
    "    \"type of mars landmark is\" : [\"mountain\", \"lake\", \"crater\", \"glacier\", \"volcano\"],\n",
    "    \"type of galaxy is\" : [\"spiral\", \"round\", \"something\", \"test\", \"somethingee\"],\n",
    "    \"planet is in\" : [\"Earth\", \"Mars\", \"Saturn\", \"venus\", \"mercury\"],\n",
    "    \"type of space landmark is\" : [],\n",
    "    \"is the name of the landmark in\": []\n",
    "    }\n",
    "    num_choices = 4\n",
    "    _question = {}\n",
    "    def gen_question(self):\n",
    "        question_structure = \"What {category} the image above?\"\n",
    "        \n",
    "        # question generation\n",
    "        category, choices = random.choice(list(question_words.items()))\n",
    "        answer = random.choice(choices)\n",
    "        self._question = {\"question\": question_structure.format(category = category),\n",
    "                    \"choices\" : random.sample(choices, self.num_choices),\n",
    "                    \"answer\" : answer\n",
    "        }\n",
    "        return self._question\n",
    "    def _valid_question(self):\n",
    "        if self._question:\n",
    "            return True\n",
    "        else:\n",
    "            raise Exception(\"Please generate a question first\")\n",
    "    def get_question(self):\n",
    "        if self._valid_question():\n",
    "            return self._question[\"question\"]\n",
    "    def get_answer(self):\n",
    "        if self._valid_question():\n",
    "            return self._question[\"answer\"]\n",
    "    def get_choices(self):\n",
    "        if self._valid_question():\n",
    "            return self._question[\"choices\"]\n",
    "    def get_json(self):\n",
    "        if self._valid_question():\n",
    "            return json.dumps(self._question)\n",
    "        \n",
    "\n",
    "    \n",
    "        \n",
    "    \n",
    "    "
   ]
  },
  {
   "cell_type": "code",
   "execution_count": 63,
   "metadata": {},
   "outputs": [
    {
     "name": "stdout",
     "output_type": "stream",
     "text": [
      "['lake', 'volcano', 'mountain', 'glacier']\n"
     ]
    }
   ],
   "source": [
    "gen = QuestionGen()\n",
    "gen.gen_question()\n",
    "print(gen.get_choices())"
   ]
  },
  {
   "cell_type": "code",
   "execution_count": 66,
   "metadata": {},
   "outputs": [
    {
     "name": "stdout",
     "output_type": "stream",
     "text": [
      "https://images-assets.nasa.gov/image/7995528/7995528~thumb.jpg\n"
     ]
    }
   ],
   "source": [
    "from ImagesAPIReader import imgapi\n",
    "\n",
    "print(imgapi(\"crab nebula\"))"
   ]
  }
 ],
 "metadata": {
  "kernelspec": {
   "display_name": "Python 3",
   "language": "python",
   "name": "python3"
  },
  "language_info": {
   "codemirror_mode": {
    "name": "ipython",
    "version": 3
   },
   "file_extension": ".py",
   "mimetype": "text/x-python",
   "name": "python",
   "nbconvert_exporter": "python",
   "pygments_lexer": "ipython3",
   "version": "3.7.6"
  }
 },
 "nbformat": 4,
 "nbformat_minor": 4
}
